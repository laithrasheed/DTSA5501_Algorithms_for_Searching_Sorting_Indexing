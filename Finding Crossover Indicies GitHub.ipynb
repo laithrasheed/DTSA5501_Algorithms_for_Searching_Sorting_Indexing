{
 "cells": [
  {
   "cell_type": "markdown",
   "id": "592fe22a",
   "metadata": {},
   "source": [
    "## Problem Describtion : Find Crossover Indices.\n",
    "\n",
    "You are given data that consists of points\n",
    "$(x_0, y_0), \\ldots, (x_n, y_n)$, wherein $x_0 < x_1 < \\ldots < x_n $, and  $y_0 < y_1 \\ldots < y_n$ as well.\n",
    "\n",
    "Furthermore, it is given that $y_0 < x_0$ and $ y_n > x_n$.\n",
    "\n",
    "Find a \"cross-over\" index $i$ between $0$ and $n-1$ such that  $ y_i \\leq x_i$ and $y_{i+1} > x_{i+1}$.\n",
    "\n",
    "\n",
    "\n",
    "\n",
    "__Example__\n",
    "\n",
    "$$\\begin{array}{c| c c c c c c c c c }\n",
    "i & 0 & 1 & 2 & 3 & 4 & 5 & 6 & 7 \\\\\n",
    "\\hline\n",
    "x_i & 0 & 2 & 4 & \\color{red}{5} & \\color{red}{6} & 7 & 8 & 10 \\\\\n",
    "y_i & -2 & 0 & 2 & \\color{red}{4} & \\color{red}{7} & 8 & 10 & 12 \\\\\n",
    "\\end{array} $$\n",
    "\n",
    "\n",
    "Your algorithm must find the index $i=3$ as the crossover point.\n",
    "\n",
    "On the other hand, consider the data\n",
    "\n",
    "$$\\begin{array}{c| c c c c c c c c c }\n",
    "i & 0 & 1 & 2 & 3 & 4 & 5 & 6 & 7 \\\\\n",
    "\\hline\n",
    "x_i & \\color{red}{0} & \\color{red}{1} & 4 & \\color{red}{5} & \\color{red}{6} & 7 & 8 & 10 \\\\\n",
    "y_i & \\color{red}{-2} & \\color{red}{1.5} & 2 & \\color{red}{4} & \\color{red}{7} & 8 & 10 & 12 \\\\\n",
    "\\end{array} $$\n",
    "\n",
    "We have two cross over points. Your algorithm may output either $i=0$ or $i=3$.\n"
   ]
  },
  {
   "cell_type": "code",
   "execution_count": 2,
   "id": "25c9f0bd",
   "metadata": {},
   "outputs": [],
   "source": [
    "# lets define the lists\n",
    "# Note that all lists below are sorted in acednding order.\n",
    "list1 = [0, 2, 4, 5, 6, 7, 8, 10] \n",
    "list2 = [-2, 0, 2, 4, 7, 8, 10, 12] \n",
    "list3 = [0, 1, 4, 5, 6, 7, 8, 10]\n",
    "list4 = [-2, 1.5, 2, 4, 7, 8, 10, 12]\n"
   ]
  },
  {
   "cell_type": "code",
   "execution_count": 7,
   "id": "9d1696dd",
   "metadata": {},
   "outputs": [],
   "source": [
    "def findCrossoverIndexHelper(x, y, left, right):    \n",
    "    if len(x) == len(y) and 0 <= left <= right - 1 and right < len(x):\n",
    "        mid = (left + right) // 2\n",
    "        if x[mid] >= y[mid] and x[mid + 1] < y[mid + 1]:\n",
    "            #print(\"This executes\")\n",
    "            return mid\n",
    "        elif x[mid] < y[mid] and x[mid + 1] > y[mid + 1]:\n",
    "            #print(\"This executes 1\")\n",
    "            return findCrossoverIndexHelper(x, y, mid + 1, right)\n",
    "        elif x[mid] > y[mid] and x[mid + 1] > y[mid + 1]:\n",
    "            return findCrossoverIndexHelper(x, y, mid + 1, right)\n",
    "        else:\n",
    "            #print(\"This executes 2\")\n",
    "            return findCrossoverIndexHelper(x, y, left, mid - 1)\n",
    "def findCrossoverIndex(x, y):\n",
    "    assert(len(x) == len(y))\n",
    "    assert(x[0] > y[0])\n",
    "    n = len(x)\n",
    "    assert(x[n-1] < y[n-1]) # Note: this automatically ensures n >= 2 why?\n",
    "    # your code here\n",
    "    return findCrossoverIndexHelper(x, y, 0, n-1)"
   ]
  },
  {
   "cell_type": "markdown",
   "id": "adedd279",
   "metadata": {},
   "source": [
    "### Testing \n"
   ]
  },
  {
   "cell_type": "code",
   "execution_count": 8,
   "id": "13b71d4f",
   "metadata": {},
   "outputs": [
    {
     "data": {
      "text/plain": [
       "3"
      ]
     },
     "execution_count": 8,
     "metadata": {},
     "output_type": "execute_result"
    }
   ],
   "source": [
    "findCrossoverIndex(list1, list2)\n",
    "# Part one is solved!"
   ]
  },
  {
   "cell_type": "code",
   "execution_count": 9,
   "id": "55d18b82",
   "metadata": {},
   "outputs": [
    {
     "data": {
      "text/plain": [
       "3"
      ]
     },
     "execution_count": 9,
     "metadata": {},
     "output_type": "execute_result"
    }
   ],
   "source": [
    "findCrossoverIndex(list3, list4)\n",
    "# Part two is solved!"
   ]
  },
  {
   "cell_type": "code",
   "execution_count": 11,
   "id": "94726ca3",
   "metadata": {},
   "outputs": [
    {
     "data": {
      "text/plain": [
       "5"
      ]
     },
     "execution_count": 11,
     "metadata": {},
     "output_type": "execute_result"
    }
   ],
   "source": [
    "# Extra Tests: \n",
    "list5 = [10, 11, 12, 13, 14, 15, 16, 17]\n",
    "list6 = [9, 10, 11, 12, 13, 15, 18, 20]\n",
    "findCrossoverIndex(list5, list6)"
   ]
  },
  {
   "cell_type": "code",
   "execution_count": 16,
   "id": "27eaa0a9",
   "metadata": {},
   "outputs": [
    {
     "data": {
      "text/plain": [
       "1"
      ]
     },
     "execution_count": 16,
     "metadata": {},
     "output_type": "execute_result"
    }
   ],
   "source": [
    "findCrossoverIndex([0, 1, 2, 3, 4, 5, 6, 7], [-2, 0, 4, 5, 6, 7, 8, 9])"
   ]
  },
  {
   "cell_type": "code",
   "execution_count": 13,
   "id": "ee620b83",
   "metadata": {},
   "outputs": [
    {
     "data": {
      "text/plain": [
       "2"
      ]
     },
     "execution_count": 13,
     "metadata": {},
     "output_type": "execute_result"
    }
   ],
   "source": [
    "findCrossoverIndex([0,1, 2, 3], [-10, -9, -8, 5])"
   ]
  },
  {
   "cell_type": "code",
   "execution_count": 14,
   "id": "4598b148",
   "metadata": {},
   "outputs": [
    {
     "data": {
      "text/plain": [
       "0"
      ]
     },
     "execution_count": 14,
     "metadata": {},
     "output_type": "execute_result"
    }
   ],
   "source": [
    "findCrossoverIndex([0, 1], [-10, 10])"
   ]
  },
  {
   "cell_type": "code",
   "execution_count": 15,
   "id": "779f0618",
   "metadata": {},
   "outputs": [
    {
     "data": {
      "text/plain": [
       "1"
      ]
     },
     "execution_count": 15,
     "metadata": {},
     "output_type": "execute_result"
    }
   ],
   "source": [
    "findCrossoverIndex([0, 1, 2, 3, 4, 5, 6, 7], [-2, 0, 4, 4.2, 4.3, 4.5, 8, 9])"
   ]
  }
 ],
 "metadata": {
  "kernelspec": {
   "display_name": "Python 3 (ipykernel)",
   "language": "python",
   "name": "python3"
  },
  "language_info": {
   "codemirror_mode": {
    "name": "ipython",
    "version": 3
   },
   "file_extension": ".py",
   "mimetype": "text/x-python",
   "name": "python",
   "nbconvert_exporter": "python",
   "pygments_lexer": "ipython3",
   "version": "3.9.16"
  }
 },
 "nbformat": 4,
 "nbformat_minor": 5
}
