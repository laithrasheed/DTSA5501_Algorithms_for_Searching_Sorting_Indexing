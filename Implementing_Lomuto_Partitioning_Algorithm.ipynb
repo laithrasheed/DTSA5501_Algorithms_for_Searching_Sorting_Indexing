{
 "cells": [
  {
   "cell_type": "markdown",
   "id": "ab3070fc",
   "metadata": {},
   "source": [
    "###### The purpose of this notebook is to understasnd the process of Lomuto partitioning algorithm used in the qiuck-sort algorithm"
   ]
  },
  {
   "cell_type": "code",
   "execution_count": 1,
   "id": "20d60f3d",
   "metadata": {},
   "outputs": [],
   "source": [
    "def lomuto_partition(arr, left, right):\n",
    "    pivot = arr[right] # choosing the pivot element ot be the last element in the array\n",
    "    i = left\n",
    "    for j in range(left, right):\n",
    "        if arr[j] <= pivot:\n",
    "            arr[i], arr[j] = arr[j], arr[i]\n",
    "            i += 1\n",
    "    arr[i], arr[right] = arr[right], arr[i]\n",
    "    return i \n",
    "\n",
    "def quicksort(arr, left, right):\n",
    "    if left < right:\n",
    "        p = lomuto_partition(arr, left, right)\n",
    "        quicksort(arr, left, p-1)\n",
    "        quicksort(arr, p+1, right)"
   ]
  },
  {
   "cell_type": "code",
   "execution_count": 2,
   "id": "5a89d7eb",
   "metadata": {},
   "outputs": [
    {
     "name": "stdout",
     "output_type": "stream",
     "text": [
      "[1, 2, 3, 4, 5, 6, 7, 8, 9]\n"
     ]
    }
   ],
   "source": [
    "array1 = [3, 1, 4, 2, 8, 6, 9, 5, 7]\n",
    "quicksort(array1, 0, len(array1) -1)\n",
    "print(array1)"
   ]
  }
 ],
 "metadata": {
  "kernelspec": {
   "display_name": "Python 3 (ipykernel)",
   "language": "python",
   "name": "python3"
  },
  "language_info": {
   "codemirror_mode": {
    "name": "ipython",
    "version": 3
   },
   "file_extension": ".py",
   "mimetype": "text/x-python",
   "name": "python",
   "nbconvert_exporter": "python",
   "pygments_lexer": "ipython3",
   "version": "3.9.16"
  }
 },
 "nbformat": 4,
 "nbformat_minor": 5
}
