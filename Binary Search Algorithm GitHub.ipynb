{
 "cells": [
  {
   "cell_type": "markdown",
   "id": "d34db1ba",
   "metadata": {},
   "source": [
    "# Binary Search Algorithm\n",
    "\n",
    "\n",
    "### Problem Describtion:\n",
    "Given a _sorted_ list (assume ascending order sorted) of $n$ elements, we wish to find out if a given element `elt` belongs to the list. \n",
    "\n",
    "Binary search algorithm repeatedly narrows down the possible location of the element by comparing the middle element in the search range to the one we are searching for. We are hoping to find at each step using the fact that the array is sorted.\n",
    "\n",
    "\n",
    "\n",
    "We wish to  implement a function `binarySearchHelper(lst, elt, left, right)` wherein:\n",
    "  - `lst` is a non empty list with at least 2 or more elements.\n",
    "  - `elt` is the element whose index we are searching for.\n",
    "  - `left` and `right` represent the \"bounds\" in terms of indices of the list.\n",
    "    - Note that indices in python start at 0 and go until `len(lst)`.\n",
    "    - Let us use `n` to denote the length of the list.\n",
    "    - If 0 <= `left` <= `right` <= n-1, the range to be searched for is non-empty. If not, the range to be searched for is assumed empty.\n",
    "\n",
    "The expected output is a number `index` or the python value `None`.\n",
    "  - If a number `index` is returned, it is a valid index of the list between left and right AND `lst[index] == elt` must hold.\n",
    "  - Otherwise, `None` is returned if and only if the list `lst` does not contain `elt`.\n",
    "\n",
    "Here is the implementation of `binarySearchHelper`.\n",
    "\n"
   ]
  },
  {
   "cell_type": "code",
   "execution_count": 3,
   "id": "2f48cdc3",
   "metadata": {},
   "outputs": [],
   "source": [
    "def binary_search_helper(lst, target, left, right):\n",
    "    n = len(lst)\n",
    "    if left > right: #base case, where the return value is None, we are looking for the index in this case. \n",
    "        return None\n",
    "    else:\n",
    "        mid = (left + right) // 2 # defining the indicator\n",
    "        if lst[mid] == target: # best case in terms of time complexity\n",
    "            return mid\n",
    "        elif lst[mid] < target:\n",
    "            return binary_search_helper(lst, target, mid+1, right)\n",
    "        else: # lst[mid] > target\n",
    "            return binary_search_helper(lst, target, left, mid-1)\n",
    "def binary_search(lst, target):\n",
    "    n = len(lst)\n",
    "    if target < lst[0] or target > lst[n-1]:\n",
    "        return None\n",
    "    else:\n",
    "        return binary_search_helper(lst, target, 0, n-1)"
   ]
  },
  {
   "cell_type": "markdown",
   "id": "5cfcd741",
   "metadata": {},
   "source": [
    "### Testing:"
   ]
  },
  {
   "cell_type": "code",
   "execution_count": 4,
   "id": "e7083361",
   "metadata": {},
   "outputs": [
    {
     "name": "stdout",
     "output_type": "stream",
     "text": [
      "Searching for 9 in list [0,2,3,4,6,9,12]\n",
      "5\n",
      "Searching for 8 in list [1, 3, 4, 6, 8, 9,10, 11, 12, 15]\n",
      "4\n",
      "Searching for 5 in list [1, 3, 4, 6, 8, 9,10, 11, 12, 15]\n",
      "None\n",
      "Searching for 0 in list [0,2]\n",
      "0\n",
      "Searching for 1 in list [0,2]\n",
      "None\n",
      "Searching for 2 in list [0,2]\n",
      "1\n",
      "Searching for 1 in list [1]\n",
      "0\n",
      "Searching for 2 in list [1]\n",
      "None\n"
     ]
    }
   ],
   "source": [
    "print(\"Searching for 9 in list [0,2,3,4,6,9,12]\")\n",
    "print(binary_search([0,2,3,4,6,9,12], 9))\n",
    "\n",
    "print(\"Searching for 8 in list [1, 3, 4, 6, 8, 9,10, 11, 12, 15]\")\n",
    "print(binary_search([1, 3, 4, 6, 8, 9,10, 11, 12, 15], 8))\n",
    "\n",
    "print(\"Searching for 5 in list [1, 3, 4, 6, 8, 9,10, 11, 12, 15]\")\n",
    "print(binary_search([1, 3, 4, 6, 8, 9,10, 11, 12, 15], 5))\n",
    "\n",
    "print(\"Searching for 0 in list [0,2]\")\n",
    "print(binary_search([0,2], 0))\n",
    "\n",
    "print(\"Searching for 1 in list [0,2]\")\n",
    "print(binary_search([0,2], 1))\n",
    "\n",
    "print(\"Searching for 2 in list [0,2]\")\n",
    "print(binary_search([0,2], 2))\n",
    "\n",
    "print(\"Searching for 1 in list [1]\")\n",
    "print(binary_search([1], 1))\n",
    "\n",
    "print(\"Searching for 2 in list [1]\")\n",
    "print(binary_search([1], 2))\n",
    "\n"
   ]
  }
 ],
 "metadata": {
  "kernelspec": {
   "display_name": "Python 3 (ipykernel)",
   "language": "python",
   "name": "python3"
  },
  "language_info": {
   "codemirror_mode": {
    "name": "ipython",
    "version": 3
   },
   "file_extension": ".py",
   "mimetype": "text/x-python",
   "name": "python",
   "nbconvert_exporter": "python",
   "pygments_lexer": "ipython3",
   "version": "3.9.16"
  }
 },
 "nbformat": 4,
 "nbformat_minor": 5
}
